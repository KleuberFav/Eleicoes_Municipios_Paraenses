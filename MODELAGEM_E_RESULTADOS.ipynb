{
 "cells": [
  {
   "cell_type": "markdown",
   "metadata": {},
   "source": [
    "# MODELAGEM"
   ]
  },
  {
   "cell_type": "code",
   "execution_count": 144,
   "metadata": {},
   "outputs": [],
   "source": [
    "# Manipulação de Dados\n",
    "import pandas as pd\n",
    "import numpy as np\n",
    "\n",
    "# Visualizações\n",
    "import matplotlib as plt\n",
    "import seaborn as sns\n",
    "\n",
    "# machine learning\n",
    "from sklearn.linear_model import LogisticRegression\n",
    "from sklearn.svm import SVC, LinearSVC\n",
    "from sklearn.ensemble import RandomForestClassifier\n",
    "from sklearn.neighbors import KNeighborsClassifier\n",
    "from sklearn.naive_bayes import GaussianNB\n",
    "from sklearn.linear_model import Perceptron\n",
    "from sklearn.linear_model import SGDClassifier\n",
    "from sklearn.tree import DecisionTreeClassifier"
   ]
  },
  {
   "cell_type": "code",
   "execution_count": 145,
   "metadata": {},
   "outputs": [
    {
     "data": {
      "text/html": [
       "<div>\n",
       "<style scoped>\n",
       "    .dataframe tbody tr th:only-of-type {\n",
       "        vertical-align: middle;\n",
       "    }\n",
       "\n",
       "    .dataframe tbody tr th {\n",
       "        vertical-align: top;\n",
       "    }\n",
       "\n",
       "    .dataframe thead th {\n",
       "        text-align: right;\n",
       "    }\n",
       "</style>\n",
       "<table border=\"1\" class=\"dataframe\">\n",
       "  <thead>\n",
       "    <tr style=\"text-align: right;\">\n",
       "      <th></th>\n",
       "      <th>Valor_Total_Declarado</th>\n",
       "      <th>Idade_Posse</th>\n",
       "      <th>Municipio</th>\n",
       "      <th>Partido</th>\n",
       "      <th>UF_Nascimento</th>\n",
       "      <th>Genero</th>\n",
       "      <th>Grau_Instrucao</th>\n",
       "      <th>Estado_Civil</th>\n",
       "      <th>Declar_Racial</th>\n",
       "      <th>Reeleicao</th>\n",
       "      <th>Declar_Bens</th>\n",
       "      <th>Situacao</th>\n",
       "    </tr>\n",
       "  </thead>\n",
       "  <tbody>\n",
       "    <tr>\n",
       "      <th>0</th>\n",
       "      <td>0.059820</td>\n",
       "      <td>-0.429375</td>\n",
       "      <td>4</td>\n",
       "      <td>2</td>\n",
       "      <td>1</td>\n",
       "      <td>0</td>\n",
       "      <td>7</td>\n",
       "      <td>1</td>\n",
       "      <td>3</td>\n",
       "      <td>0</td>\n",
       "      <td>1</td>\n",
       "      <td>0</td>\n",
       "    </tr>\n",
       "    <tr>\n",
       "      <th>1</th>\n",
       "      <td>0.396182</td>\n",
       "      <td>-1.568580</td>\n",
       "      <td>4</td>\n",
       "      <td>1</td>\n",
       "      <td>1</td>\n",
       "      <td>1</td>\n",
       "      <td>5</td>\n",
       "      <td>1</td>\n",
       "      <td>1</td>\n",
       "      <td>0</td>\n",
       "      <td>1</td>\n",
       "      <td>0</td>\n",
       "    </tr>\n",
       "    <tr>\n",
       "      <th>2</th>\n",
       "      <td>0.053502</td>\n",
       "      <td>1.279432</td>\n",
       "      <td>4</td>\n",
       "      <td>2</td>\n",
       "      <td>2</td>\n",
       "      <td>0</td>\n",
       "      <td>5</td>\n",
       "      <td>0</td>\n",
       "      <td>4</td>\n",
       "      <td>0</td>\n",
       "      <td>1</td>\n",
       "      <td>0</td>\n",
       "    </tr>\n",
       "    <tr>\n",
       "      <th>3</th>\n",
       "      <td>-0.390232</td>\n",
       "      <td>0.045294</td>\n",
       "      <td>0</td>\n",
       "      <td>1</td>\n",
       "      <td>2</td>\n",
       "      <td>1</td>\n",
       "      <td>5</td>\n",
       "      <td>1</td>\n",
       "      <td>3</td>\n",
       "      <td>0</td>\n",
       "      <td>1</td>\n",
       "      <td>0</td>\n",
       "    </tr>\n",
       "    <tr>\n",
       "      <th>4</th>\n",
       "      <td>-0.321329</td>\n",
       "      <td>-0.524309</td>\n",
       "      <td>4</td>\n",
       "      <td>2</td>\n",
       "      <td>1</td>\n",
       "      <td>0</td>\n",
       "      <td>5</td>\n",
       "      <td>0</td>\n",
       "      <td>3</td>\n",
       "      <td>0</td>\n",
       "      <td>1</td>\n",
       "      <td>0</td>\n",
       "    </tr>\n",
       "    <tr>\n",
       "      <th>...</th>\n",
       "      <td>...</td>\n",
       "      <td>...</td>\n",
       "      <td>...</td>\n",
       "      <td>...</td>\n",
       "      <td>...</td>\n",
       "      <td>...</td>\n",
       "      <td>...</td>\n",
       "      <td>...</td>\n",
       "      <td>...</td>\n",
       "      <td>...</td>\n",
       "      <td>...</td>\n",
       "      <td>...</td>\n",
       "    </tr>\n",
       "    <tr>\n",
       "      <th>9278</th>\n",
       "      <td>-0.266207</td>\n",
       "      <td>1.279432</td>\n",
       "      <td>4</td>\n",
       "      <td>1</td>\n",
       "      <td>1</td>\n",
       "      <td>1</td>\n",
       "      <td>7</td>\n",
       "      <td>1</td>\n",
       "      <td>1</td>\n",
       "      <td>0</td>\n",
       "      <td>1</td>\n",
       "      <td>0</td>\n",
       "    </tr>\n",
       "    <tr>\n",
       "      <th>9279</th>\n",
       "      <td>-0.390108</td>\n",
       "      <td>0.425029</td>\n",
       "      <td>4</td>\n",
       "      <td>1</td>\n",
       "      <td>1</td>\n",
       "      <td>0</td>\n",
       "      <td>5</td>\n",
       "      <td>0</td>\n",
       "      <td>3</td>\n",
       "      <td>0</td>\n",
       "      <td>1</td>\n",
       "      <td>1</td>\n",
       "    </tr>\n",
       "    <tr>\n",
       "      <th>9280</th>\n",
       "      <td>-0.415037</td>\n",
       "      <td>-0.904044</td>\n",
       "      <td>4</td>\n",
       "      <td>2</td>\n",
       "      <td>1</td>\n",
       "      <td>0</td>\n",
       "      <td>5</td>\n",
       "      <td>0</td>\n",
       "      <td>3</td>\n",
       "      <td>0</td>\n",
       "      <td>1</td>\n",
       "      <td>1</td>\n",
       "    </tr>\n",
       "    <tr>\n",
       "      <th>9281</th>\n",
       "      <td>-0.317195</td>\n",
       "      <td>0.899697</td>\n",
       "      <td>1</td>\n",
       "      <td>2</td>\n",
       "      <td>1</td>\n",
       "      <td>0</td>\n",
       "      <td>2</td>\n",
       "      <td>1</td>\n",
       "      <td>4</td>\n",
       "      <td>0</td>\n",
       "      <td>1</td>\n",
       "      <td>0</td>\n",
       "    </tr>\n",
       "    <tr>\n",
       "      <th>9282</th>\n",
       "      <td>-0.195960</td>\n",
       "      <td>-0.714176</td>\n",
       "      <td>4</td>\n",
       "      <td>2</td>\n",
       "      <td>1</td>\n",
       "      <td>0</td>\n",
       "      <td>5</td>\n",
       "      <td>0</td>\n",
       "      <td>3</td>\n",
       "      <td>0</td>\n",
       "      <td>1</td>\n",
       "      <td>0</td>\n",
       "    </tr>\n",
       "  </tbody>\n",
       "</table>\n",
       "<p>9283 rows × 12 columns</p>\n",
       "</div>"
      ],
      "text/plain": [
       "      Valor_Total_Declarado  Idade_Posse  Municipio  Partido  UF_Nascimento  \\\n",
       "0                  0.059820    -0.429375          4        2              1   \n",
       "1                  0.396182    -1.568580          4        1              1   \n",
       "2                  0.053502     1.279432          4        2              2   \n",
       "3                 -0.390232     0.045294          0        1              2   \n",
       "4                 -0.321329    -0.524309          4        2              1   \n",
       "...                     ...          ...        ...      ...            ...   \n",
       "9278              -0.266207     1.279432          4        1              1   \n",
       "9279              -0.390108     0.425029          4        1              1   \n",
       "9280              -0.415037    -0.904044          4        2              1   \n",
       "9281              -0.317195     0.899697          1        2              1   \n",
       "9282              -0.195960    -0.714176          4        2              1   \n",
       "\n",
       "      Genero  Grau_Instrucao  Estado_Civil  Declar_Racial  Reeleicao  \\\n",
       "0          0               7             1              3          0   \n",
       "1          1               5             1              1          0   \n",
       "2          0               5             0              4          0   \n",
       "3          1               5             1              3          0   \n",
       "4          0               5             0              3          0   \n",
       "...      ...             ...           ...            ...        ...   \n",
       "9278       1               7             1              1          0   \n",
       "9279       0               5             0              3          0   \n",
       "9280       0               5             0              3          0   \n",
       "9281       0               2             1              4          0   \n",
       "9282       0               5             0              3          0   \n",
       "\n",
       "      Declar_Bens  Situacao  \n",
       "0               1         0  \n",
       "1               1         0  \n",
       "2               1         0  \n",
       "3               1         0  \n",
       "4               1         0  \n",
       "...           ...       ...  \n",
       "9278            1         0  \n",
       "9279            1         1  \n",
       "9280            1         1  \n",
       "9281            1         0  \n",
       "9282            1         0  \n",
       "\n",
       "[9283 rows x 12 columns]"
      ]
     },
     "execution_count": 145,
     "metadata": {},
     "output_type": "execute_result"
    }
   ],
   "source": [
    "# Carregar os dados já pré-processados\n",
    "\n",
    "dataset = pd.read_csv('dados_tratados.csv')\n",
    "dataset"
   ]
  },
  {
   "cell_type": "code",
   "execution_count": 146,
   "metadata": {},
   "outputs": [],
   "source": [
    "# MUNICIPIOS\n",
    "# GRANDE = 0; MEDIO = 1; MINUSCULA = 2; PAUD'ARCO = 3; PEQUENO = 4\n",
    "\n",
    "# PARTIDO\n",
    "# 'PEQUENO':0, 'MEDIO': 1, 'GRANDE':2\n",
    "\n",
    "# UF_NASCIMENTO\n",
    "# 'Estrangeiro':0, 'PA': 1, 'outros':2\n",
    "\n",
    "# GENERO\n",
    "# 'FEMININO':1, 'MASCULINO': 0\n",
    "\n",
    "# GRAU INSTRUCAO\n",
    "# 'ANALFABETO': 0, 'LÊ E ESCREVE': 1, 'ENSINO FUNDAMENTAL INCOMPLETO': 2, \n",
    "# 'ENSINO FUNDAMENTAL COMPLETO': 3, 'ENSINO MÉDIO INCOMPLETO': 4, \n",
    "# 'ENSINO MÉDIO COMPLETO': 5, 'SUPERIOR INCOMPLETO': 6, 'SUPERIOR COMPLETO': 7\n",
    "\n",
    "# ESTADO CIVIL\n",
    "# 'SOLTEIRO(A)':0, 'CASADO(A)': 1, 'DIVORCIADO(A)': 2,\n",
    "# 'SEPARADO(A) JUDICIALMENTE': 3, 'VIÚVO(A)': 4\n",
    "\n",
    "# DECLAR_RACIAL\n",
    "# PARDA = 0; BRANCA = 1; PRETA = 2, SEM INFORMAÇÃO = 3; ÍNDIGENA = 4; AMARELA = 5\n",
    "\n",
    "# REELEIÇÃO\n",
    "# 'S':1, 'N': 0\n",
    "\n",
    "# DECLAR BENS\n",
    "# 'S':1, 'N': 0\n",
    "\n",
    "# SITUAÇÃO\n",
    "# 'ELEITO':1, 'NÃO ELEITO': 0"
   ]
  },
  {
   "cell_type": "code",
   "execution_count": 147,
   "metadata": {},
   "outputs": [
    {
     "data": {
      "text/plain": [
       "array([[ 0.05982015, -0.42937492,  4.        , ...,  3.        ,\n",
       "         0.        ,  1.        ],\n",
       "       [ 0.39618248, -1.56857964,  4.        , ...,  1.        ,\n",
       "         0.        ,  1.        ],\n",
       "       [ 0.05350177,  1.27943215,  4.        , ...,  4.        ,\n",
       "         0.        ,  1.        ],\n",
       "       ...,\n",
       "       [-0.41503663, -0.90404356,  4.        , ...,  3.        ,\n",
       "         0.        ,  1.        ],\n",
       "       [-0.31719478,  0.89969724,  1.        , ...,  4.        ,\n",
       "         0.        ,  1.        ],\n",
       "       [-0.19596047, -0.7141761 ,  4.        , ...,  3.        ,\n",
       "         0.        ,  1.        ]])"
      ]
     },
     "execution_count": 147,
     "metadata": {},
     "output_type": "execute_result"
    }
   ],
   "source": [
    "# Separar dados em variáveis preditoras e variável alvo\n",
    "\n",
    "#separamos x de y\n",
    "y = dataset['Situacao'].values\n",
    "X = dataset.iloc[:,0:11].values\n",
    "X"
   ]
  },
  {
   "cell_type": "code",
   "execution_count": 148,
   "metadata": {},
   "outputs": [],
   "source": [
    "# Separar dados em treino e teste\n",
    "\n",
    "from sklearn.model_selection import train_test_split\n",
    "\n",
    "X_train, X_test, y_train, y_test = train_test_split(X,y,test_size = 0.3,random_state = 0)"
   ]
  },
  {
   "cell_type": "markdown",
   "metadata": {},
   "source": [
    "# KNN"
   ]
  },
  {
   "cell_type": "code",
   "execution_count": 149,
   "metadata": {},
   "outputs": [
    {
     "data": {
      "text/plain": [
       "86.0"
      ]
     },
     "execution_count": 149,
     "metadata": {},
     "output_type": "execute_result"
    }
   ],
   "source": [
    "# Algoritmo KNN K=7\n",
    "\n",
    "knn1 = KNeighborsClassifier(n_neighbors = 7)\n",
    "knn1.fit(X_train, y_train)\n",
    "Y_pred = knn1.predict(X_test)\n",
    "acc_knn1 = round(knn1.score(X_test, y_test) * 100, 2)\n",
    "acc_knn1"
   ]
  },
  {
   "cell_type": "code",
   "execution_count": 150,
   "metadata": {},
   "outputs": [
    {
     "data": {
      "text/plain": [
       "85.53"
      ]
     },
     "execution_count": 150,
     "metadata": {},
     "output_type": "execute_result"
    }
   ],
   "source": [
    "# Algoritmo KNN K=5\n",
    "\n",
    "knn2 = KNeighborsClassifier(n_neighbors = 5)\n",
    "knn2.fit(X_train, y_train)\n",
    "Y_pred = knn2.predict(X_test)\n",
    "acc_knn2 = round(knn2.score(X_test, y_test) * 100, 2)\n",
    "acc_knn2"
   ]
  },
  {
   "cell_type": "code",
   "execution_count": 151,
   "metadata": {},
   "outputs": [
    {
     "data": {
      "text/plain": [
       "84.17"
      ]
     },
     "execution_count": 151,
     "metadata": {},
     "output_type": "execute_result"
    }
   ],
   "source": [
    "# Algoritmo KNN K=3\n",
    "\n",
    "knn3 = KNeighborsClassifier(n_neighbors = 3)\n",
    "knn3.fit(X_train, y_train)\n",
    "Y_pred = knn3.predict(X_test)\n",
    "acc_knn3 = round(knn3.score(X_test, y_test) * 100, 2)\n",
    "acc_knn3"
   ]
  },
  {
   "cell_type": "markdown",
   "metadata": {},
   "source": [
    "# ÁRVORES DE DECISÃO"
   ]
  },
  {
   "cell_type": "code",
   "execution_count": 152,
   "metadata": {},
   "outputs": [
    {
     "data": {
      "text/plain": [
       "80.65"
      ]
     },
     "execution_count": 152,
     "metadata": {},
     "output_type": "execute_result"
    }
   ],
   "source": [
    "# Algoritmo Árvore de Decisão sem definir a profundidade máxima\n",
    "\n",
    "decision_tree0 = DecisionTreeClassifier(criterion='entropy', random_state=15) # Árvore com profundidade 2\n",
    "decision_tree0.fit(X_train, y_train)\n",
    "Y_pred = decision_tree0.predict(X_test)\n",
    "acc_decision_tree0 = round(decision_tree0.score(X_test, y_test) * 100, 2)\n",
    "acc_decision_tree0"
   ]
  },
  {
   "cell_type": "code",
   "execution_count": 153,
   "metadata": {},
   "outputs": [
    {
     "data": {
      "text/plain": [
       "87.18"
      ]
     },
     "execution_count": 153,
     "metadata": {},
     "output_type": "execute_result"
    }
   ],
   "source": [
    "# Algoritmo Árvore de Decisão com profundidade máxima = 2\n",
    "\n",
    "decision_tree1 = DecisionTreeClassifier(max_depth=2, criterion='entropy', random_state=15) # Árvore com profundidade 2\n",
    "decision_tree1.fit(X_train, y_train)\n",
    "Y_pred = decision_tree1.predict(X_test)\n",
    "acc_decision_tree1 = round(decision_tree1.score(X_test, y_test) * 100, 2)\n",
    "acc_decision_tree1\n"
   ]
  },
  {
   "cell_type": "code",
   "execution_count": 154,
   "metadata": {},
   "outputs": [
    {
     "data": {
      "text/plain": [
       "87.11"
      ]
     },
     "execution_count": 154,
     "metadata": {},
     "output_type": "execute_result"
    }
   ],
   "source": [
    "# Algoritmo Árvore de Decisão com profundidade máxima = 4\n",
    "\n",
    "decision_tree2 = DecisionTreeClassifier(max_depth=4, criterion='entropy', random_state=15) # Árvore com profundidade 4\n",
    "decision_tree2.fit(X_train, y_train)\n",
    "Y_pred = decision_tree2.predict(X_test)\n",
    "acc_decision_tree2 = round(decision_tree2.score(X_test, y_test) * 100, 2)\n",
    "acc_decision_tree2"
   ]
  },
  {
   "cell_type": "code",
   "execution_count": 155,
   "metadata": {},
   "outputs": [],
   "source": [
    "# Cria uma área de gráfico de tamanho específico\n",
    "# Importa a biblioteca tree\n",
    "import sklearn.tree\n",
    "import matplotlib.pyplot as pyp\n",
    "\n"
   ]
  },
  {
   "cell_type": "code",
   "execution_count": 156,
   "metadata": {},
   "outputs": [
    {
     "data": {
      "image/png": "[encoded data removed]",
      "text/plain": [
       "<Figure size 1152x576 with 1 Axes>"
      ]
     },
     "metadata": {
      "needs_background": "light"
     },
     "output_type": "display_data"
    }
   ],
   "source": [
    "# ÁRVORE PARA PROFUNDIDADE = 2\n",
    "\n",
    "# Cria uma área de gráfico de tamanho específico\n",
    "fig, ax = pyp.subplots(figsize=(16, 8))\n",
    "# Plota a árvore preenchida pela cor da classe que predomina no nó\n",
    "arvore1 = sklearn.tree.plot_tree(decision_tree1, max_depth=1000, fontsize=\n",
    "10, filled=True, ax=ax)"
   ]
  },
  {
   "cell_type": "code",
   "execution_count": 157,
   "metadata": {},
   "outputs": [],
   "source": [
    "# Pela entropia o nodo raiz escolhido foi 'Valor Total Declarado'\n",
    "# Depois o modelo verifica se o candidato concorreu a reeleição"
   ]
  },
  {
   "cell_type": "code",
   "execution_count": 158,
   "metadata": {},
   "outputs": [
    {
     "data": {
      "image/png": "[encoded data removed]",
      "text/plain": [
       "<Figure size 1152x576 with 1 Axes>"
      ]
     },
     "metadata": {
      "needs_background": "light"
     },
     "output_type": "display_data"
    }
   ],
   "source": [
    "# ÁRVORE PARA PROFUNDIDADE = 4\n",
    "\n",
    "# Cria uma área de gráfico de tamanho específico\n",
    "fig, ax = pyp.subplots(figsize=(16, 8))\n",
    "# Plota a árvore preenchida pela cor da classe que predomina no nó\n",
    "arvore1 = sklearn.tree.plot_tree(decision_tree2, max_depth=1000, fontsize=\n",
    "10, filled=True, ax=ax)"
   ]
  },
  {
   "cell_type": "code",
   "execution_count": 159,
   "metadata": {},
   "outputs": [],
   "source": [
    "# Pela entropia o nodo raiz escolhido foi 'Valor Total Declarado'\n",
    "# Depois o modelo verifica se o candidato concorreu a reeleição\n",
    "# Depois o modelo verifica o genero\n",
    "# Assim por diante"
   ]
  },
  {
   "cell_type": "markdown",
   "metadata": {},
   "source": [
    "# Florestas Aleatórias"
   ]
  },
  {
   "cell_type": "code",
   "execution_count": 160,
   "metadata": {},
   "outputs": [
    {
     "data": {
      "text/plain": [
       "86.46"
      ]
     },
     "execution_count": 160,
     "metadata": {},
     "output_type": "execute_result"
    }
   ],
   "source": [
    "# Random Forest com criterio entropy\n",
    "\n",
    "random_forest1 = RandomForestClassifier(n_estimators=500, criterion= 'entropy', random_state=15)\n",
    "random_forest1.fit(X_train, y_train)\n",
    "Y_pred = random_forest1.predict(X_test)\n",
    "random_forest1.score(X_train, y_train)\n",
    "acc_random_forest1 = round(random_forest1.score(X_test, y_test) * 100, 2)\n",
    "acc_random_forest1"
   ]
  },
  {
   "cell_type": "code",
   "execution_count": 161,
   "metadata": {},
   "outputs": [
    {
     "data": {
      "text/plain": [
       "86.57"
      ]
     },
     "execution_count": 161,
     "metadata": {},
     "output_type": "execute_result"
    }
   ],
   "source": [
    "# Random Forest com criterio gini\n",
    "\n",
    "random_forest2 = RandomForestClassifier(n_estimators=500, criterion= 'gini', random_state=15)\n",
    "random_forest2.fit(X_train, y_train)\n",
    "Y_pred = random_forest2.predict(X_test)\n",
    "random_forest2.score(X_train, y_train)\n",
    "acc_random_forest2 = round(random_forest2.score(X_test, y_test) * 100, 2)\n",
    "acc_random_forest2"
   ]
  },
  {
   "cell_type": "code",
   "execution_count": 162,
   "metadata": {},
   "outputs": [
    {
     "data": {
      "text/html": [
       "<div>\n",
       "<style scoped>\n",
       "    .dataframe tbody tr th:only-of-type {\n",
       "        vertical-align: middle;\n",
       "    }\n",
       "\n",
       "    .dataframe tbody tr th {\n",
       "        vertical-align: top;\n",
       "    }\n",
       "\n",
       "    .dataframe thead th {\n",
       "        text-align: right;\n",
       "    }\n",
       "</style>\n",
       "<table border=\"1\" class=\"dataframe\">\n",
       "  <thead>\n",
       "    <tr style=\"text-align: right;\">\n",
       "      <th></th>\n",
       "      <th>Model</th>\n",
       "      <th>Score</th>\n",
       "    </tr>\n",
       "  </thead>\n",
       "  <tbody>\n",
       "    <tr>\n",
       "      <th>4</th>\n",
       "      <td>Árvore de Decisão com Profundidade Máxima=2</td>\n",
       "      <td>87.18</td>\n",
       "    </tr>\n",
       "    <tr>\n",
       "      <th>5</th>\n",
       "      <td>Árvore de Decisão com Profundidade Máxima=4</td>\n",
       "      <td>87.11</td>\n",
       "    </tr>\n",
       "    <tr>\n",
       "      <th>7</th>\n",
       "      <td>Floresta Aleatória (Gini)</td>\n",
       "      <td>86.57</td>\n",
       "    </tr>\n",
       "    <tr>\n",
       "      <th>6</th>\n",
       "      <td>Floresta Aleatória (Entropy)</td>\n",
       "      <td>86.46</td>\n",
       "    </tr>\n",
       "    <tr>\n",
       "      <th>0</th>\n",
       "      <td>KNN com K=7</td>\n",
       "      <td>86.00</td>\n",
       "    </tr>\n",
       "    <tr>\n",
       "      <th>1</th>\n",
       "      <td>KNN com K=5</td>\n",
       "      <td>85.53</td>\n",
       "    </tr>\n",
       "    <tr>\n",
       "      <th>2</th>\n",
       "      <td>KNN com K=3</td>\n",
       "      <td>84.17</td>\n",
       "    </tr>\n",
       "    <tr>\n",
       "      <th>3</th>\n",
       "      <td>Árvore de Decisão</td>\n",
       "      <td>80.65</td>\n",
       "    </tr>\n",
       "  </tbody>\n",
       "</table>\n",
       "</div>"
      ],
      "text/plain": [
       "                                         Model  Score\n",
       "4  Árvore de Decisão com Profundidade Máxima=2  87.18\n",
       "5  Árvore de Decisão com Profundidade Máxima=4  87.11\n",
       "7                    Floresta Aleatória (Gini)  86.57\n",
       "6                 Floresta Aleatória (Entropy)  86.46\n",
       "0                                  KNN com K=7  86.00\n",
       "1                                  KNN com K=5  85.53\n",
       "2                                  KNN com K=3  84.17\n",
       "3                            Árvore de Decisão  80.65"
      ]
     },
     "execution_count": 162,
     "metadata": {},
     "output_type": "execute_result"
    }
   ],
   "source": [
    "models1 = pd.DataFrame({\n",
    "    'Model': ['KNN com K=7', 'KNN com K=5', 'KNN com K=3', \n",
    "              'Árvore de Decisão', 'Árvore de Decisão com Profundidade Máxima=2', 'Árvore de Decisão com Profundidade Máxima=4', \n",
    "              'Floresta Aleatória (Entropy)', 'Floresta Aleatória (Gini)'],\n",
    "    'Score': [acc_knn1, acc_knn2, acc_knn3, \n",
    "              acc_decision_tree0, acc_decision_tree1, acc_decision_tree2, \n",
    "              acc_random_forest1, acc_random_forest2]})\n",
    "models.sort_values(by='Score', ascending=False)"
   ]
  },
  {
   "cell_type": "code",
   "execution_count": 163,
   "metadata": {},
   "outputs": [],
   "source": [
    "# O modelo com Score melhor foi o de Árvore de Decisão com max_depth=2"
   ]
  },
  {
   "cell_type": "code",
   "execution_count": 164,
   "metadata": {},
   "outputs": [
    {
     "name": "stdout",
     "output_type": "stream",
     "text": [
      "[[2370   28]\n",
      " [ 329   58]]\n"
     ]
    }
   ],
   "source": [
    "# Verificando outras métricas para o modelo\n",
    "\n",
    "Previsoes = decision_tree1.predict(X_test)\n",
    "\n",
    "from sklearn.metrics import confusion_matrix\n",
    "Matriz = confusion_matrix(y_test, Previsoes)\n",
    "print(Matriz)"
   ]
  },
  {
   "cell_type": "code",
   "execution_count": 165,
   "metadata": {},
   "outputs": [
    {
     "name": "stdout",
     "output_type": "stream",
     "text": [
      "              precision    recall  f1-score   support\n",
      "\n",
      "           0       0.88      0.99      0.93      2398\n",
      "           1       0.67      0.15      0.25       387\n",
      "\n",
      "    accuracy                           0.87      2785\n",
      "   macro avg       0.78      0.57      0.59      2785\n",
      "weighted avg       0.85      0.87      0.83      2785\n",
      "\n"
     ]
    }
   ],
   "source": [
    "from sklearn.metrics import classification_report\n",
    "\n",
    "report = classification_report(y_test, Previsoes)\n",
    "print(report)"
   ]
  },
  {
   "cell_type": "code",
   "execution_count": 166,
   "metadata": {},
   "outputs": [],
   "source": [
    "# Podemos ver que o modelo acerta muito quando o candidato não é eleito e acerta pouco quando o candidato é eleito\n",
    "# Precisamos balancear a Classe"
   ]
  },
  {
   "cell_type": "markdown",
   "metadata": {},
   "source": [
    "# Balanceamento da Classe\n"
   ]
  },
  {
   "cell_type": "code",
   "execution_count": 167,
   "metadata": {},
   "outputs": [],
   "source": [
    "# Biblioteca necessária para balancear a classe\n",
    "\n",
    "from imblearn.over_sampling import SMOTENC"
   ]
  },
  {
   "cell_type": "code",
   "execution_count": 168,
   "metadata": {},
   "outputs": [
    {
     "data": {
      "text/plain": [
       "array([7972, 1311], dtype=int64)"
      ]
     },
     "execution_count": 168,
     "metadata": {},
     "output_type": "execute_result"
    }
   ],
   "source": [
    "# Verificando o equilibrio da Classe\n",
    "\n",
    "np.bincount(y)"
   ]
  },
  {
   "cell_type": "code",
   "execution_count": 169,
   "metadata": {},
   "outputs": [],
   "source": [
    "# Balanceamento da classe\n",
    "\n",
    "sm = SMOTENC(random_state=42, categorical_features=[0,1])\n",
    "X, y= sm.fit_resample(X, y)"
   ]
  },
  {
   "cell_type": "code",
   "execution_count": 170,
   "metadata": {},
   "outputs": [
    {
     "data": {
      "text/plain": [
       "array([7972, 7972], dtype=int64)"
      ]
     },
     "execution_count": 170,
     "metadata": {},
     "output_type": "execute_result"
    }
   ],
   "source": [
    "# Verificando o equilibrio da Classe\n",
    "\n",
    "np.bincount(y)"
   ]
  },
  {
   "cell_type": "code",
   "execution_count": 171,
   "metadata": {},
   "outputs": [],
   "source": [
    "# Agora o modelo tá balanceado"
   ]
  },
  {
   "cell_type": "code",
   "execution_count": 172,
   "metadata": {},
   "outputs": [
    {
     "data": {
      "text/plain": [
       "15944"
      ]
     },
     "execution_count": 172,
     "metadata": {},
     "output_type": "execute_result"
    }
   ],
   "source": [
    "# Verificando se o tamanho dos dados mudou\n",
    "len(X)"
   ]
  },
  {
   "cell_type": "code",
   "execution_count": 173,
   "metadata": {},
   "outputs": [],
   "source": [
    "# Separar dados em treino e teste\n",
    "\n",
    "from sklearn.model_selection import train_test_split\n",
    "\n",
    "X_train, X_test, y_train, y_test = train_test_split(X,y,test_size = 0.3,random_state = 0)"
   ]
  },
  {
   "cell_type": "markdown",
   "metadata": {},
   "source": [
    "# KNN"
   ]
  },
  {
   "cell_type": "code",
   "execution_count": 186,
   "metadata": {},
   "outputs": [
    {
     "data": {
      "text/plain": [
       "76.99"
      ]
     },
     "execution_count": 186,
     "metadata": {},
     "output_type": "execute_result"
    }
   ],
   "source": [
    "# Algoritmo KNN K=7\n",
    "\n",
    "knn1 = KNeighborsClassifier(n_neighbors = 7)\n",
    "knn1.fit(X_train, y_train)\n",
    "Y_pred = knn1.predict(X_test)\n",
    "acc_knn1 = round(knn1.score(X_test, y_test) * 100, 2)\n",
    "acc_knn1"
   ]
  },
  {
   "cell_type": "code",
   "execution_count": 187,
   "metadata": {},
   "outputs": [
    {
     "data": {
      "text/plain": [
       "77.65"
      ]
     },
     "execution_count": 187,
     "metadata": {},
     "output_type": "execute_result"
    }
   ],
   "source": [
    "# Algoritmo KNN K=5\n",
    "\n",
    "knn2 = KNeighborsClassifier(n_neighbors = 5)\n",
    "knn2.fit(X_train, y_train)\n",
    "Y_pred = knn2.predict(X_test)\n",
    "acc_knn2 = round(knn2.score(X_test, y_test) * 100, 2)\n",
    "acc_knn2"
   ]
  },
  {
   "cell_type": "code",
   "execution_count": 188,
   "metadata": {},
   "outputs": [
    {
     "data": {
      "text/plain": [
       "78.32"
      ]
     },
     "execution_count": 188,
     "metadata": {},
     "output_type": "execute_result"
    }
   ],
   "source": [
    "# Algoritmo KNN K=3\n",
    "\n",
    "knn3 = KNeighborsClassifier(n_neighbors = 3)\n",
    "knn3.fit(X_train, y_train)\n",
    "Y_pred = knn3.predict(X_test)\n",
    "acc_knn3 = round(knn3.score(X_test, y_test) * 100, 2)\n",
    "acc_knn3"
   ]
  },
  {
   "cell_type": "markdown",
   "metadata": {},
   "source": [
    "# Árvores de Decisão"
   ]
  },
  {
   "cell_type": "code",
   "execution_count": 189,
   "metadata": {},
   "outputs": [
    {
     "data": {
      "text/plain": [
       "81.96"
      ]
     },
     "execution_count": 189,
     "metadata": {},
     "output_type": "execute_result"
    }
   ],
   "source": [
    "# Algoritmo Árvore de Decisão sem definir a profundidade máxima\n",
    "\n",
    "decision_tree0 = DecisionTreeClassifier(criterion='entropy', random_state=15) # Árvore com profundidade 2\n",
    "decision_tree0.fit(X_train, y_train)\n",
    "Y_pred = decision_tree0.predict(X_test)\n",
    "acc_decision_tree0 = round(decision_tree0.score(X_test, y_test) * 100, 2)\n",
    "acc_decision_tree0"
   ]
  },
  {
   "cell_type": "code",
   "execution_count": 190,
   "metadata": {},
   "outputs": [
    {
     "data": {
      "text/plain": [
       "68.29"
      ]
     },
     "execution_count": 190,
     "metadata": {},
     "output_type": "execute_result"
    }
   ],
   "source": [
    "# Algoritmo Árvore de Decisão com profundidade máxima = 2\n",
    "\n",
    "decision_tree1 = DecisionTreeClassifier(max_depth=2, criterion='entropy', random_state=15) # Árvore com profundidade 2\n",
    "decision_tree1.fit(X_train, y_train)\n",
    "Y_pred = decision_tree1.predict(X_test)\n",
    "acc_decision_tree1 = round(decision_tree1.score(X_test, y_test) * 100, 2)\n",
    "acc_decision_tree1"
   ]
  },
  {
   "cell_type": "code",
   "execution_count": 191,
   "metadata": {},
   "outputs": [
    {
     "data": {
      "text/plain": [
       "69.57"
      ]
     },
     "execution_count": 191,
     "metadata": {},
     "output_type": "execute_result"
    }
   ],
   "source": [
    "# Algoritmo Árvore de Decisão com profundidade máxima = 4\n",
    "\n",
    "decision_tree2 = DecisionTreeClassifier(max_depth=4, criterion='entropy', random_state=15) # Árvore com profundidade 4\n",
    "decision_tree2.fit(X_train, y_train)\n",
    "Y_pred = decision_tree2.predict(X_test)\n",
    "acc_decision_tree2 = round(decision_tree2.score(X_test, y_test) * 100, 2)\n",
    "acc_decision_tree2"
   ]
  },
  {
   "cell_type": "markdown",
   "metadata": {},
   "source": [
    "# Florestas Aleatórias"
   ]
  },
  {
   "cell_type": "code",
   "execution_count": 192,
   "metadata": {},
   "outputs": [
    {
     "data": {
      "text/plain": [
       "88.36"
      ]
     },
     "execution_count": 192,
     "metadata": {},
     "output_type": "execute_result"
    }
   ],
   "source": [
    "# Random Forest com criterio entropy\n",
    "\n",
    "random_forest1 = RandomForestClassifier(n_estimators=500, criterion= 'entropy', random_state=15)\n",
    "random_forest1.fit(X_train, y_train)\n",
    "Y_pred = random_forest1.predict(X_test)\n",
    "random_forest1.score(X_train, y_train)\n",
    "acc_random_forest1 = round(random_forest1.score(X_test, y_test) * 100, 2)\n",
    "acc_random_forest1"
   ]
  },
  {
   "cell_type": "code",
   "execution_count": 193,
   "metadata": {},
   "outputs": [
    {
     "data": {
      "text/plain": [
       "88.25"
      ]
     },
     "execution_count": 193,
     "metadata": {},
     "output_type": "execute_result"
    }
   ],
   "source": [
    "# Random Forest com criterio gini\n",
    "\n",
    "random_forest2 = RandomForestClassifier(n_estimators=500, criterion= 'gini', random_state=15)\n",
    "random_forest2.fit(X_train, y_train)\n",
    "Y_pred = random_forest2.predict(X_test)\n",
    "random_forest2.score(X_train, y_train)\n",
    "acc_random_forest2 = round(random_forest2.score(X_test, y_test) * 100, 2)\n",
    "acc_random_forest2"
   ]
  },
  {
   "cell_type": "code",
   "execution_count": 195,
   "metadata": {},
   "outputs": [
    {
     "data": {
      "text/html": [
       "<div>\n",
       "<style scoped>\n",
       "    .dataframe tbody tr th:only-of-type {\n",
       "        vertical-align: middle;\n",
       "    }\n",
       "\n",
       "    .dataframe tbody tr th {\n",
       "        vertical-align: top;\n",
       "    }\n",
       "\n",
       "    .dataframe thead th {\n",
       "        text-align: right;\n",
       "    }\n",
       "</style>\n",
       "<table border=\"1\" class=\"dataframe\">\n",
       "  <thead>\n",
       "    <tr style=\"text-align: right;\">\n",
       "      <th></th>\n",
       "      <th>Model</th>\n",
       "      <th>Score</th>\n",
       "    </tr>\n",
       "  </thead>\n",
       "  <tbody>\n",
       "    <tr>\n",
       "      <th>6</th>\n",
       "      <td>Floresta Aleatória (Entropy)</td>\n",
       "      <td>88.36</td>\n",
       "    </tr>\n",
       "    <tr>\n",
       "      <th>7</th>\n",
       "      <td>Floresta Aleatória (Gini)</td>\n",
       "      <td>88.25</td>\n",
       "    </tr>\n",
       "    <tr>\n",
       "      <th>3</th>\n",
       "      <td>Árvore de Decisão</td>\n",
       "      <td>81.96</td>\n",
       "    </tr>\n",
       "    <tr>\n",
       "      <th>2</th>\n",
       "      <td>KNN com K=3</td>\n",
       "      <td>78.32</td>\n",
       "    </tr>\n",
       "    <tr>\n",
       "      <th>1</th>\n",
       "      <td>KNN com K=5</td>\n",
       "      <td>77.65</td>\n",
       "    </tr>\n",
       "    <tr>\n",
       "      <th>0</th>\n",
       "      <td>KNN com K=7</td>\n",
       "      <td>76.99</td>\n",
       "    </tr>\n",
       "    <tr>\n",
       "      <th>5</th>\n",
       "      <td>Árvore de Decisão com Profundidade Máxima=4</td>\n",
       "      <td>69.57</td>\n",
       "    </tr>\n",
       "    <tr>\n",
       "      <th>4</th>\n",
       "      <td>Árvore de Decisão com Profundidade Máxima=2</td>\n",
       "      <td>68.29</td>\n",
       "    </tr>\n",
       "  </tbody>\n",
       "</table>\n",
       "</div>"
      ],
      "text/plain": [
       "                                         Model  Score\n",
       "6                 Floresta Aleatória (Entropy)  88.36\n",
       "7                    Floresta Aleatória (Gini)  88.25\n",
       "3                            Árvore de Decisão  81.96\n",
       "2                                  KNN com K=3  78.32\n",
       "1                                  KNN com K=5  77.65\n",
       "0                                  KNN com K=7  76.99\n",
       "5  Árvore de Decisão com Profundidade Máxima=4  69.57\n",
       "4  Árvore de Decisão com Profundidade Máxima=2  68.29"
      ]
     },
     "execution_count": 195,
     "metadata": {},
     "output_type": "execute_result"
    }
   ],
   "source": [
    "models2 = pd.DataFrame({\n",
    "    'Model': ['KNN com K=7', 'KNN com K=5', 'KNN com K=3', \n",
    "              'Árvore de Decisão', 'Árvore de Decisão com Profundidade Máxima=2', 'Árvore de Decisão com Profundidade Máxima=4', \n",
    "              'Floresta Aleatória (Entropy)', 'Floresta Aleatória (Gini)'],\n",
    "    'Score': [acc_knn1, acc_knn2, acc_knn3, \n",
    "              acc_decision_tree0, acc_decision_tree1, acc_decision_tree2, \n",
    "              acc_random_forest1, acc_random_forest2]})\n",
    "models2.sort_values(by='Score', ascending=False)"
   ]
  },
  {
   "cell_type": "code",
   "execution_count": 197,
   "metadata": {},
   "outputs": [],
   "source": [
    "# O modelo com Score melhor foi o de Floresta Aleatória com criterio Entropia"
   ]
  },
  {
   "cell_type": "code",
   "execution_count": 201,
   "metadata": {},
   "outputs": [
    {
     "name": "stdout",
     "output_type": "stream",
     "text": [
      "[[2064  321]\n",
      " [ 236 2163]]\n"
     ]
    }
   ],
   "source": [
    "# Verificando outras métricas para o modelo\n",
    "\n",
    "Previsoes = random_forest1.predict(X_test)\n",
    "\n",
    "from sklearn.metrics import confusion_matrix\n",
    "Matriz = confusion_matrix(y_test, Previsoes)\n",
    "print(Matriz)"
   ]
  },
  {
   "cell_type": "code",
   "execution_count": 202,
   "metadata": {},
   "outputs": [
    {
     "name": "stdout",
     "output_type": "stream",
     "text": [
      "              precision    recall  f1-score   support\n",
      "\n",
      "           0       0.90      0.87      0.88      2385\n",
      "           1       0.87      0.90      0.89      2399\n",
      "\n",
      "    accuracy                           0.88      4784\n",
      "   macro avg       0.88      0.88      0.88      4784\n",
      "weighted avg       0.88      0.88      0.88      4784\n",
      "\n"
     ]
    }
   ],
   "source": [
    "from sklearn.metrics import classification_report\n",
    "\n",
    "report = classification_report(y_test, Previsoes)\n",
    "print(report)"
   ]
  },
  {
   "cell_type": "code",
   "execution_count": 203,
   "metadata": {},
   "outputs": [],
   "source": [
    "# Agora com os dados balanceados o modelo:\n",
    "# acerta 88,36% das vezes;\n",
    "# tem uma precisão de 90% pra classe não eleito e 87% pra classe eleito (relevância dos resultados);\n",
    "# tem uma recuperação de 87% pra classe não eleito e 90% pra classe eleito (resultados verdadeiramente relevante)"
   ]
  },
  {
   "cell_type": "code",
   "execution_count": 204,
   "metadata": {},
   "outputs": [],
   "source": [
    "# O modelo selecionado (Florestas Aleatórias com critério de entropia) já pode ser usado\n",
    "# pra prever se um candidado será eleito ou não"
   ]
  },
  {
   "cell_type": "code",
   "execution_count": 208,
   "metadata": {},
   "outputs": [],
   "source": [
    "# Outros algoritmos podem ser testados, por exemplo:\n",
    "# Regressão Logística\n",
    "# Máquina Vetor de Suporte\n",
    "# Naive Bayes\n",
    "# Redes Neurais Perceptron"
   ]
  }
 ],
 "metadata": {
  "kernelspec": {
   "display_name": "Python 3",
   "language": "python",
   "name": "python3"
  },
  "language_info": {
   "codemirror_mode": {
    "name": "ipython",
    "version": 3
   },
   "file_extension": ".py",
   "mimetype": "text/x-python",
   "name": "python",
   "nbconvert_exporter": "python",
   "pygments_lexer": "ipython3",
   "version": "3.8.5"
  }
 },
 "nbformat": 4,
 "nbformat_minor": 4
}
